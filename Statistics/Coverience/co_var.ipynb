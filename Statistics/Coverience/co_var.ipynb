{
 "cells": [
  {
   "cell_type": "code",
   "execution_count": 1,
   "metadata": {},
   "outputs": [
    {
     "name": "stdout",
     "output_type": "stream",
     "text": [
      "    Size  Bedrooms  Age   Price\n",
      "0   1926         4   43  473255\n",
      "1   2259         5   29  499648\n",
      "2   1660         2   36  208155\n",
      "3   2094         3   13  666872\n",
      "4   1930         5   32  574705\n",
      "..   ...       ...  ...     ...\n",
      "95  1069         2    7  593002\n",
      "96  1615         4   41  698863\n",
      "97  2094         4   33  567654\n",
      "98  1255         2   40  779036\n",
      "99  2285         4   39  730089\n",
      "\n",
      "[100 rows x 4 columns]\n"
     ]
    }
   ],
   "source": [
    "import pandas as pd\n",
    "import numpy as np\n",
    "\n",
    "# Create a DataFrame with 100 rows of dummy data\n",
    "np.random.seed(42)\n",
    "data = {\n",
    "    'Size': np.random.randint(800, 2500, 100),\n",
    "    'Bedrooms': np.random.randint(2, 6, 100),\n",
    "    'Age': np.random.randint(1, 50, 100),\n",
    "    'Price': np.random.randint(200000, 800000, 100)\n",
    "}\n",
    "df = pd.DataFrame(data)\n",
    "\n",
    "# Save the DataFrame to a CSV file\n",
    "df.to_csv('house_price_data.csv', index=False)\n",
    "\n",
    "# Display the DataFrame\n",
    "print(df)\n"
   ]
  },
  {
   "cell_type": "code",
   "execution_count": 4,
   "metadata": {},
   "outputs": [
    {
     "name": "stdout",
     "output_type": "stream",
     "text": [
      "Covariance between Price and Size: 23.464646464646457\n"
     ]
    }
   ],
   "source": [
    "import pandas as pd\n",
    "\n",
    "# Load the CSV data into a DataFrame\n",
    "df = pd.read_csv('house_price_data.csv')\n",
    "\n",
    "# Calculate the covariance between 'Price' and 'Size'\n",
    "covariance = df['Bedrooms'].cov(df['Size'])\n",
    "\n",
    "# Print the covariance\n",
    "print(f\"Covariance between Price and Size: {covariance}\")\n"
   ]
  },
  {
   "cell_type": "code",
   "execution_count": 5,
   "metadata": {},
   "outputs": [
    {
     "name": "stdout",
     "output_type": "stream",
     "text": [
      "                  Size      Bedrooms          Age         Price\n",
      "Size      2.420771e+05     23.464646   101.583030  2.494785e+07\n",
      "Bedrooms  2.346465e+01      1.343434     0.919192 -1.612632e+04\n",
      "Age       1.015830e+02      0.919192   213.083232  3.604744e+03\n",
      "Price     2.494785e+07 -16126.323232  3604.743838  2.981073e+10\n"
     ]
    }
   ],
   "source": [
    "import pandas as pd\n",
    "\n",
    "# Load the CSV data into a DataFrame\n",
    "df = pd.read_csv('house_price_data.csv')\n",
    "\n",
    "# Calculate the covariance matrix\n",
    "cov_matrix = df.cov()\n",
    "\n",
    "# Print the covariance matrix\n",
    "print(cov_matrix)\n"
   ]
  },
  {
   "cell_type": "code",
   "execution_count": 6,
   "metadata": {},
   "outputs": [
    {
     "name": "stdout",
     "output_type": "stream",
     "text": [
      "Ranked features based on covariance with Price:\n",
      "Size        2.494785e+07\n",
      "Bedrooms    1.612632e+04\n",
      "Age         3.604744e+03\n",
      "Name: Price, dtype: float64\n"
     ]
    }
   ],
   "source": [
    "import pandas as pd\n",
    "\n",
    "# Load the CSV data into a DataFrame\n",
    "df = pd.read_csv('house_price_data.csv')\n",
    "\n",
    "# Calculate the absolute covariance between each feature and the target variable\n",
    "cov_with_target = df.cov()['Price'][['Size', 'Bedrooms', 'Age']].abs()\n",
    "\n",
    "# Rank the features based on their importance\n",
    "ranked_features = cov_with_target.sort_values(ascending=False)\n",
    "\n",
    "# Print the ranked features\n",
    "print(\"Ranked features based on covariance with Price:\")\n",
    "print(ranked_features)\n"
   ]
  },
  {
   "cell_type": "markdown",
   "metadata": {},
   "source": [
    "Main Part "
   ]
  },
  {
   "cell_type": "code",
   "execution_count": 32,
   "metadata": {},
   "outputs": [
    {
     "name": "stdout",
     "output_type": "stream",
     "text": [
      "Mean Squared Error: 26973266434.03597\n",
      "Selected features:\n",
      "['Size', 'Bedrooms']\n",
      "Excluded features:\n",
      "['Random_Negative', 'Age']\n"
     ]
    }
   ],
   "source": [
    "import pandas as pd\n",
    "import numpy as np\n",
    "from sklearn.linear_model import LinearRegression\n",
    "from sklearn.model_selection import train_test_split\n",
    "from sklearn.metrics import mean_squared_error\n",
    "\n",
    "# Load the CSV data into a DataFrame\n",
    "df = pd.read_csv('house_price_data.csv')\n",
    "\n",
    "# Add a random feature with negative covariance with Price\n",
    "np.random.seed(42)\n",
    "random_feature = np.random.randint(0, 100, df.shape[0]) * -1\n",
    "df['Random_Negative'] = random_feature\n",
    "\n",
    "# Select features and target variable\n",
    "X = df[['Size', 'Bedrooms', 'Age', 'Random_Negative']]\n",
    "y = df['Price']\n",
    "\n",
    "# Split the data into training and testing sets\n",
    "X_train, X_test, y_train, y_test = train_test_split(X, y, test_size=0.2, random_state=42)\n",
    "\n",
    "# Train a linear regression model\n",
    "model = LinearRegression()\n",
    "model.fit(X_train, y_train)\n",
    "\n",
    "# Make predictions\n",
    "y_pred = model.predict(X_test)\n",
    "\n",
    "# Calculate the mean squared error\n",
    "mse = mean_squared_error(y_test, y_pred)\n",
    "\n",
    "# Print the mean squared error\n",
    "print(f\"Mean Squared Error: {mse}\")\n",
    "\n",
    "# Rank the features based on their importance\n",
    "cov_with_target = df.cov()['Price'][['Size', 'Bedrooms', 'Age', 'Random_Negative']].abs()\n",
    "ranked_features = cov_with_target.sort_values(ascending=False)\n",
    "\n",
    "# Select the top two features\n",
    "selected_features = ranked_features.head(2).index.tolist()\n",
    "\n",
    "# Print selected features\n",
    "print(\"Selected features:\")\n",
    "print(selected_features)\n",
    "\n",
    "# Exclude the rest of the features\n",
    "excluded_features = ranked_features.tail(len(ranked_features) - 2).index.tolist()\n",
    "\n",
    "# Print excluded features\n",
    "print(\"Excluded features:\")\n",
    "print(excluded_features)\n"
   ]
  }
 ],
 "metadata": {
  "kernelspec": {
   "display_name": "tf",
   "language": "python",
   "name": "python3"
  },
  "language_info": {
   "codemirror_mode": {
    "name": "ipython",
    "version": 3
   },
   "file_extension": ".py",
   "mimetype": "text/x-python",
   "name": "python",
   "nbconvert_exporter": "python",
   "pygments_lexer": "ipython3",
   "version": "3.9.18"
  }
 },
 "nbformat": 4,
 "nbformat_minor": 2
}
